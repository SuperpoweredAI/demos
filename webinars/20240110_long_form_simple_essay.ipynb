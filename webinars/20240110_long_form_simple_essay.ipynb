{
 "cells": [
  {
   "cell_type": "markdown",
   "metadata": {},
   "source": [
    "# Simple long-form generation\n",
    "\n",
    "### Write an essay about quantum computing"
   ]
  },
  {
   "cell_type": "markdown",
   "metadata": {},
   "source": [
    "##### Submit job"
   ]
  },
  {
   "cell_type": "code",
   "execution_count": null,
   "metadata": {},
   "outputs": [],
   "source": [
    "import requests\n",
    "import json\n",
    "\n",
    "prompt =\"\"\"\\\n",
    "Please write me an essay about the real world applications of quantum computing.\n",
    "\n",
    "Specifically, I would like you to write about the following topics:\n",
    "- Quantum computing and machine learning\n",
    "- Quantum computing and cryptography\n",
    "- Quantum computing and biology\n",
    "\"\"\"\n",
    "\n",
    "url = 'https://api.superpowered.ai/v1/long_form'\n",
    "payload = {\n",
    "    'prompt': prompt,\n",
    "    'knowledge_base_ids': ['KB ID'],\n",
    "    'model': 'gpt-4',\n",
    "    'response_length': 'medium',\n",
    "    'segment_length': 'short',\n",
    "}\n",
    "auth = ('API KEY ID', ' API KEY SECRET')\n",
    "resp = requests.post(url, json=payload, auth=auth)\n",
    "\n",
    "print(resp.json())"
   ]
  },
  {
   "cell_type": "markdown",
   "metadata": {},
   "source": [
    "##### Wait for job to complete"
   ]
  },
  {
   "cell_type": "code",
   "execution_count": null,
   "metadata": {},
   "outputs": [],
   "source": [
    "while resp.json()['status'] not in {'COMPLETE', 'FAILED'}:\n",
    "    print(resp.json()['status'])\n",
    "    resp = requests.get(resp.json()['status_url'], auth=auth)\n",
    "\n",
    "job_id = resp.json()['id']"
   ]
  },
  {
   "cell_type": "markdown",
   "metadata": {},
   "source": [
    "##### Create an audio export of the essay"
   ]
  },
  {
   "cell_type": "code",
   "execution_count": null,
   "metadata": {},
   "outputs": [],
   "source": [
    "export_url = f'https://api.superpowered.ai/v1/long_form/{job_id}/exports/audio'\n",
    "\n",
    "payload = {\n",
    "    'audio_voice_name': 'openai_alloy'\n",
    "}\n",
    "\n",
    "export_resp = requests.post(export_url, json=payload, auth=auth)\n",
    "print(export_resp.json())"
   ]
  },
  {
   "cell_type": "markdown",
   "metadata": {},
   "source": [
    "##### Wait for audio export to complete"
   ]
  },
  {
   "cell_type": "code",
   "execution_count": null,
   "metadata": {},
   "outputs": [],
   "source": [
    "while export_resp.json()['status'] not in {'COMPLETE', 'FAILED'}:\n",
    "    export_resp = requests.get(export_resp.json()['status_url'], auth=auth)\n",
    "    print(export_resp.json()['status'])\n",
    "\n",
    "download_url = export_resp.json()"
   ]
  },
  {
   "cell_type": "markdown",
   "metadata": {},
   "source": [
    "##### Print the download file"
   ]
  },
  {
   "cell_type": "code",
   "execution_count": null,
   "metadata": {},
   "outputs": [],
   "source": [
    "print(export_resp.json())\n",
    "\n",
    "print(export_resp.json()['response']['download_url'])"
   ]
  }
 ],
 "metadata": {
  "kernelspec": {
   "display_name": "Python 3",
   "language": "python",
   "name": "python3"
  },
  "language_info": {
   "codemirror_mode": {
    "name": "ipython",
    "version": 3
   },
   "file_extension": ".py",
   "mimetype": "text/x-python",
   "name": "python",
   "nbconvert_exporter": "python",
   "pygments_lexer": "ipython3",
   "version": "3.9.6"
  }
 },
 "nbformat": 4,
 "nbformat_minor": 2
}
