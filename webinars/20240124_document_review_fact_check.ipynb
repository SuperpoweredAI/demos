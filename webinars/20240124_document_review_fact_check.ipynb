{
 "cells": [
  {
   "cell_type": "markdown",
   "metadata": {},
   "source": [
    "# Document Review Fact Check Usage Case\n",
    "\n",
    "### This uses the API to do a fact check review on some papers I wrote in graduate school."
   ]
  },
  {
   "cell_type": "markdown",
   "metadata": {},
   "source": [
    "##### Submit document review"
   ]
  },
  {
   "cell_type": "code",
   "execution_count": null,
   "metadata": {},
   "outputs": [],
   "source": [
    "import json\n",
    "import requests\n",
    "from tqdm import tqdm\n",
    "\n",
    "\n",
    "REVIEW_KB_ID = '36737027-f3fa-4aa7-a105-2e6f8984ecce'\n",
    "REFERENCE_KB_IDS = ['94edf5f6-0ce6-4d21-addc-45078ddad4f7']\n",
    "\n",
    "url = f'https://api.superpowered.ai/v1/knowledge_bases/{REVIEW_KB_ID}/review'\n",
    "payload = {\n",
    "    'active_reading_model': 'gpt-3.5-turbo',\n",
    "    'active_reading_instructions': 'Please help me fact check what I wrote in my graduate school papers.',\n",
    "    'auto_query_guidance': 'Your queries should make sure any facts in my source documents match the reference knowledge bases.',\n",
    "    'reference_knowledge_base_ids': REFERENCE_KB_IDS,\n",
    "\n",
    "    'final_review_model': 'gpt-4',\n",
    "    'final_review_instructions': 'Please give me an overview of the things I got correct and the things I got incorrect in my graduate school papers. If I got something wrong, please correct it.',\n",
    "}\n",
    "auth = ('API KEY ID', 'API KEY SECRET')\n",
    "resp = requests.post(url, json=payload, auth=auth)\n",
    "\n",
    "print(resp.json())"
   ]
  },
  {
   "cell_type": "markdown",
   "metadata": {},
   "source": [
    "##### Print progress of active reading instructions"
   ]
  },
  {
   "cell_type": "code",
   "execution_count": null,
   "metadata": {},
   "outputs": [],
   "source": [
    "print('ACTIVE READING PROGRESS')\n",
    "progress_bar = tqdm(total=1)\n",
    "\n",
    "while resp.json()['status'] not in {'COMPLETE', 'FAILED'}:\n",
    "    resp = requests.get(resp.json()['status_url'], auth=auth)\n",
    "    progress = resp.json()['response']['active_reading_progress_pct']\n",
    "    progress_bar.n = progress\n",
    "    progress_bar.refresh()\n",
    "\n",
    "progress_bar.close()"
   ]
  },
  {
   "cell_type": "markdown",
   "metadata": {},
   "source": [
    "##### Print final result"
   ]
  },
  {
   "cell_type": "code",
   "execution_count": null,
   "metadata": {},
   "outputs": [],
   "source": [
    "from pprint import pprint\n",
    "\n",
    "pprint(resp.json()['response']['final_review'])"
   ]
  }
 ],
 "metadata": {
  "kernelspec": {
   "display_name": "Python 3",
   "language": "python",
   "name": "python3"
  },
  "language_info": {
   "codemirror_mode": {
    "name": "ipython",
    "version": 3
   },
   "file_extension": ".py",
   "mimetype": "text/x-python",
   "name": "python",
   "nbconvert_exporter": "python",
   "pygments_lexer": "ipython3",
   "version": "3.9.6"
  }
 },
 "nbformat": 4,
 "nbformat_minor": 2
}
