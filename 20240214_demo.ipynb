{
 "cells": [
  {
   "cell_type": "markdown",
   "metadata": {},
   "source": [
    "# Book Ideation and Generation using Document Review and Long Form\n",
    "\n",
    "### Overview\n",
    "\n",
    "The goal is to write a quality educational book in the simplest way possible. We will go through the ideation phase to set the tone and topics of the book.\n",
    "\n",
    "##### Project Flow\n",
    "\n",
    "1. Create knowledge bases for each chapter we want in the book.\n",
    "2. Get some user inputs in regard to overall theme and style.\n",
    "3. For each chapter knowledge base, run a document review where the \"final review\" output is a chapter outline.\n",
    "4. Feed each of the document review outlines into a long form generation call.\n",
    "\n",
    "##### Initialization"
   ]
  },
  {
   "cell_type": "code",
   "execution_count": null,
   "metadata": {},
   "outputs": [],
   "source": [
    "import superpowered\n",
    "import requests\n",
    "import time\n",
    "import tqdm\n",
    "\n",
    "from IPython.display import display, Markdown\n",
    "\n",
    "SP_BASE_URL = 'https://api.superpowered.ai/v1'\n",
    "SP_API_KEY_ID = 'server_dbaf9892f0b59434ca2e751d557f979d'\n",
    "SP_API_KEY_SECRET = 'qyLsmw5B5HqZV5WxOYq8Atoe2E0HjaEtaMJjrxOKf8M'\n",
    "API_AUTH = (SP_API_KEY_ID, SP_API_KEY_SECRET)\n",
    "\n",
    "knowledge_base_ids = [\n",
    "    '08844d05-4e09-479d-9770-6faebccfceb6',  # STOICISM\n",
    "    'a0fd538c-06ec-43ae-849b-f9570caca2c6',  # EPICUREANISM\n",
    "    '87401ada-dfcb-4e3a-afbc-8fe9ead62bb4',  # MINIMALISM\n",
    "    '6fde0338-0856-477b-bfa0-439432dfbcd1',  # HEDONISM\n",
    "    'a78019b4-c498-412b-9daf-737698fab4c5',  # EXISTENTIALISM\n",
    "    '740b2668-ecab-4372-9bc4-6a01a4f88560',  # NIHILISM\n",
    "    '183cee2f-2053-480b-8e86-9377489208c5',  # PRAGMATISM\n",
    "    '0e75e305-b314-40a3-a4fb-7f357bda0c10',  # IDEALISM\n",
    "]\n"
   ]
  },
  {
   "cell_type": "markdown",
   "metadata": {},
   "source": [
    "##### User input describing goal for the book"
   ]
  },
  {
   "cell_type": "code",
   "execution_count": null,
   "metadata": {},
   "outputs": [],
   "source": [
    "BOOK_TITLE = 'Living a Good Life in the Age of AI and Automation'\n",
    "BOOK_THEME = 'The general theme of this book is to look at what it means to live a good life in the context of stoicism, epicureanism, minimalism, hedonism, existentialism, nihilism, pragmatism, and idealism. Each chapter will cover one of these 8 philosophical schools of thought.'\n",
    "BOOK_OVERALL_STYLE_GUIDANCE = 'The style should be widely accessible to the general public with a focus on how each of the philosophies are relevant in the modern age of AI and automation. It is important to use a variable vocabulary and make sure that nothing is repetitive and dry. Be fun and present ideas with examples. Avoid bland closing statements like \"in summary\", \"in conclusion\", etc. The book should be a fun and engaging read.'\n",
    "BOOK_CHAPTER_STYLE_GUIDANCE = 'Each chapter should start with a general overview of the philosophy in question and explain how the concepts are relevant in the modern age of AI and automation. Give examples of what living by this philosophy would look like in scenarios like: \"remote work and lack of social interacation\", \"complete automation with no jobs\", \"human population expantion\", \"virtual reality\", \"augmented reality\", \"cell phones\", \"immersive video games\", etc.'"
   ]
  },
  {
   "cell_type": "markdown",
   "metadata": {},
   "source": [
    "##### Helper functions that will run document reviews and long form plus stream results"
   ]
  },
  {
   "cell_type": "code",
   "execution_count": null,
   "metadata": {},
   "outputs": [],
   "source": [
    "def run_and_display_review(kb: dict, ar_instructions: str, fr_instructions: str):\n",
    "    url = f'{SP_BASE_URL}/knowledge_bases/{kb[\"id\"]}/review'\n",
    "    payload = {\n",
    "        'active_reading_instructions': ar_instructions,\n",
    "        'final_review_instructions': fr_instructions,\n",
    "    }\n",
    "    resp = requests.post(url, json=payload, auth=API_AUTH)\n",
    "    final_review_display = display(Markdown('Review pending...'), display_id=True)\n",
    "    progress_bar = tqdm.tqdm(total=1)\n",
    "    progress_bar.set_description(f'Active Reading Progress for {kb[\"title\"]}')\n",
    "\n",
    "    # keep request job until it's completed (or failed)\n",
    "    while resp.json()['status'] not in ['COMPLETE', 'FAILED']:\n",
    "        resp = requests.get(resp.json()['status_url'], auth=API_AUTH)\n",
    "        progress_bar.n = resp.json()['response']['active_reading_progress_pct']\n",
    "        if progress_bar.n >= 1:\n",
    "            final_review_display.update(Markdown(resp.json()[\"response\"][\"final_review\"]))\n",
    "        progress_bar.refresh()\n",
    "\n",
    "    progress_bar.close()\n",
    "    return resp.json()['response']['final_review']\n",
    "\n",
    "\n",
    "def submit_long_form_job(kb: dict, prompt: str):\n",
    "    url = f'{SP_BASE_URL}/long_form'\n",
    "    payload = {\n",
    "        'knowledge_base_ids': [kb['id']],\n",
    "        'model': 'mistral-medium',\n",
    "        'response_length': 'long',\n",
    "        'prompt': prompt,\n",
    "    }\n",
    "    resp = requests.post(url, json=payload, auth=API_AUTH)\n",
    "    return resp.json()['id']\n"
   ]
  },
  {
   "cell_type": "markdown",
   "metadata": {},
   "source": [
    "##### Loop through each knowledge base and run the document review"
   ]
  },
  {
   "cell_type": "code",
   "execution_count": null,
   "metadata": {},
   "outputs": [],
   "source": [
    "active_reading_instructions = f\"\"\"\\\n",
    "You are reading through a knowledge base on {{philosophy}}. Please extract information that is relevant to living a good life.\n",
    "\n",
    "The infomration that is extracted will be used to write a chapter about {{philosophy}} for a book with the following theme: {BOOK_THEME}\n",
    "\n",
    "Your output should be a list of key points and examples that could be relevant to the modern age of AI and automation. The information you are reading through might not directly mention AI and automation so it's up to you to decide if the information is relevant or not.\n",
    "\"\"\"\n",
    "\n",
    "final_review_instructions = f\"\"\"\\\n",
    "Given the list key points and examples from the active reading, please generate a chapter outline. The book must follow these style guidelines:\n",
    "\n",
    "1. {BOOK_OVERALL_STYLE_GUIDANCE}\n",
    "2. {BOOK_CHAPTER_STYLE_GUIDANCE}\n",
    "\n",
    "The chapter outline should contain a list of detailed section descriptions. Please try to keep the number of sections between 5 and 7\n",
    "\"\"\"\n",
    "\n",
    "outlines = []\n",
    "for kb_id in knowledge_base_ids:\n",
    "    # get the knowledge base object\n",
    "    kb_url = f'{SP_BASE_URL}/knowledge_bases/{kb_id}'\n",
    "    resp = requests.get(kb_url, auth=API_AUTH)\n",
    "    kb = resp.json()\n",
    "\n",
    "    outline = run_and_display_review(kb, active_reading_instructions.format(philosophy=kb['title']), final_review_instructions)\n",
    "    outlines.append((kb, outline))"
   ]
  },
  {
   "cell_type": "code",
   "execution_count": null,
   "metadata": {},
   "outputs": [],
   "source": [
    "chapter_ids = []\n",
    "\n",
    "for kb, outline in outlines:\n",
    "    prompt = f\"\"\"\\\n",
    "    You have been assigned to write a chapter in a book titled \"{BOOK_TITLE}\" about {kb['title']}. Please follow this outline when writing the chapter:\n",
    "\n",
    "    {outline}\n",
    "\n",
    "    {BOOK_OVERALL_STYLE_GUIDANCE}\n",
    "    {BOOK_CHAPTER_STYLE_GUIDANCE}\n",
    "\n",
    "    DO NOT EVER USE CLOSINGS LIKE \"in conclusion\", \"in summary\", \"ultimately\", etc. They are boring and you should have more pride in your output.\n",
    "    \"\"\"\n",
    "    print('STARTING CHAPTER:', kb['title'])\n",
    "    chapter_job_id = submit_long_form_job(kb, prompt)\n",
    "    chapter_ids.append(chapter_job_id)\n",
    "    "
   ]
  }
 ],
 "metadata": {
  "kernelspec": {
   "display_name": "Python 3",
   "language": "python",
   "name": "python3"
  },
  "language_info": {
   "codemirror_mode": {
    "name": "ipython",
    "version": 3
   },
   "file_extension": ".py",
   "mimetype": "text/x-python",
   "name": "python",
   "nbconvert_exporter": "python",
   "pygments_lexer": "ipython3",
   "version": "3.9.6"
  }
 },
 "nbformat": 4,
 "nbformat_minor": 2
}
